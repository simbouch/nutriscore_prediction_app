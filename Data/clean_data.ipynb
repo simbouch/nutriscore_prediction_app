{
 "cells": [
  {
   "cell_type": "code",
   "execution_count": 2,
   "metadata": {},
   "outputs": [],
   "source": [
    "import pandas as pd\n",
    "import pycountry as pc"
   ]
  },
  {
   "cell_type": "code",
   "execution_count": null,
   "metadata": {},
   "outputs": [],
   "source": [
    "df_list = []\n",
    "df_combined = pd.DataFrame()\n",
    "\n",
    "for i in range(348):\n",
    "    df = pd.read_csv(f'CSV/openfoodfacts_{i}.csv', sep=',', header=0)\n",
    "\n",
    "    # First duplicates delete\n",
    "    df_cleaned = df.drop_duplicates(keep = 'first', inplace = False)\n",
    "    \n",
    "    # Cleaning nutriscore_grade\n",
    "    index_ng = df.columns.get_loc('nutriscore_grade')\n",
    "\n",
    "    for j in range(df_cleaned.shape[0]):\n",
    "        if df_cleaned.iloc[j, index_ng] not in [\"a\", \"b\", \"c\", \"d\", \"e\"]:\n",
    "            df_cleaned.iloc[j, index_ng] = None\n",
    "\n",
    "    df_cleaned.dropna(subset=['nutriscore_grade'], axis=0, how='any', inplace= True)\n",
    "\n",
    "    # Delete columns with at least 70% NaN\n",
    "    percentage = 0.70\n",
    "\n",
    "    threshold = int((1 - percentage) * df_cleaned.shape[0])\n",
    "\n",
    "    df_cleaned.dropna(thresh=threshold, inplace= True, axis=1)\n",
    "\n",
    "    print(df_cleaned.shape)\n",
    "    \n",
    "    df_list.append(df_cleaned)\n",
    "\n",
    "df_combined = pd.concat(df_list, ignore_index=True)\n",
    "\n",
    "df_combined.to_csv(f'cleaned_csv/openfoodfacts_cleaned.csv', index=False)"
   ]
  },
  {
   "cell_type": "markdown",
   "metadata": {},
   "source": [
    "### First cleaning to delete duplicates, cleaning the nutriscore_grade column and delete columns with at least 70% of NaN"
   ]
  },
  {
   "cell_type": "code",
   "execution_count": 4,
   "metadata": {},
   "outputs": [
    {
     "name": "stderr",
     "output_type": "stream",
     "text": [
      "C:\\Users\\tiger\\AppData\\Local\\Temp\\ipykernel_32396\\3602617785.py:1: DtypeWarning: Columns (0,11,20,21,22,23,26,27,39,46,49,50,51,52,53,54,74,75,76,77,78,79,81,82,83,84,86,87,88,89,90,91,92,93,94,95,97,98,99,100,101) have mixed types. Specify dtype option on import or set low_memory=False.\n",
      "  df = pd.read_csv('cleaned_csv/openfoodfacts_cleaned.csv', sep=',', header=0)\n"
     ]
    }
   ],
   "source": [
    "df = pd.read_csv('cleaned_csv/openfoodfacts_cleaned.csv', sep=',', header=0)\n",
    "\n",
    "# Delete rows with empty nutrients\n",
    "columns_100g = [col for col in df.columns if '_100g' in col]\n",
    "\n",
    "df_cleaned = df[~df[columns_100g].isna().all(axis=1)]\n",
    "\n",
    "# Delete duplicates on 'brands' and 'product_name'\n",
    "df_cleaned.drop_duplicates(subset=['brands', 'product_name'], keep = 'first', inplace=True)\n",
    "\n",
    "df_cleaned.to_csv('cleaned_csv/openfoodfacts_cleaned_V2.csv', index=False)"
   ]
  },
  {
   "cell_type": "markdown",
   "metadata": {},
   "source": [
    "### Second cleaning to delete rows with empty nutrients and to delete duplicates on the 'brands' and 'product_name' columns"
   ]
  },
  {
   "cell_type": "code",
   "execution_count": 3,
   "metadata": {},
   "outputs": [
    {
     "name": "stderr",
     "output_type": "stream",
     "text": [
      "C:\\Users\\tiger\\AppData\\Local\\Temp\\ipykernel_32344\\1912257809.py:1: DtypeWarning: Columns (0,11,20,21,22,23,26,27,39,46,49,50,51,52,53,54,74,75,76,77,78,79,81,82,83,84,86,87,88,89,90,91,92,93,94,95,97,98,99,100,101) have mixed types. Specify dtype option on import or set low_memory=False.\n",
      "  df = pd.read_csv('cleaned_csv/openfoodfacts_cleaned_V2.csv', sep=',', header=0)\n"
     ]
    }
   ],
   "source": [
    "df = pd.read_csv('cleaned_csv/openfoodfacts_cleaned_V2.csv', sep=',', header=0)\n",
    "\n",
    "tag_columns_to_drop = [col for col in df.columns if col.endswith('_tag')]\n",
    "\n",
    "excluded_columns = ['countries_en', 'main_category_en', 'categories_en']\n",
    "\n",
    "en_columns_to_drop = [col for col in df.columns if col.endswith('_en') and col not in excluded_columns]\n",
    "\n",
    "# Drop the filtered columns\n",
    "df = df.drop(tag_columns_to_drop, axis=1)\n",
    "df = df.drop(en_columns_to_drop, axis=1)\n",
    "\n",
    "df.to_csv('cleaned_csv/openfoodfacts_cleaned_V3.csv', index=False)"
   ]
  },
  {
   "cell_type": "markdown",
   "metadata": {},
   "source": [
    "### Delete all columns ending with '_tag' and '_en' except for 'countries_en' and 'main_category_en'"
   ]
  },
  {
   "cell_type": "code",
   "execution_count": 5,
   "metadata": {},
   "outputs": [
    {
     "name": "stderr",
     "output_type": "stream",
     "text": [
      "C:\\Users\\tiger\\AppData\\Local\\Temp\\ipykernel_32344\\3620328078.py:1: DtypeWarning: Columns (0,11,20,21,22,23,26,36,43,46,47,48,49,50,51,71,72,73,74,75,77,78,79,81,82,83,84,85,86,87,88,89,91,92,93,94) have mixed types. Specify dtype option on import or set low_memory=False.\n",
      "  df = pd.read_csv('cleaned_csv/openfoodfacts_cleaned_V3.csv', sep=',', header=0)\n"
     ]
    }
   ],
   "source": [
    "df = pd.read_csv('cleaned_csv/openfoodfacts_cleaned_V3.csv', sep=',', header=0)\n",
    "\n",
    "# Replacing all NaN by 'unknown'\n",
    "df['countries_en'] = df['countries_en'].fillna('unknown')\n",
    "\n",
    "# Splitting the countries string and store it in the same cell as a list\n",
    "df['countries_en'] = df['countries_en'].str.split(',')\n",
    "\n",
    "# Exploding the lists into rows\n",
    "df_exploded = df.explode('countries_en')\n",
    "\n",
    "# Striping the countries names of all useless spaces (before and after the names)\n",
    "df_exploded['countries_en'] = df_exploded['countries_en'].str.strip()\n",
    "\n",
    "def is_valid_country(country):\n",
    "    '''\n",
    "    Checks if the name of a country is correct in a DataFrame\n",
    "\n",
    "    Parameters:\n",
    "        country: the DataFrame containing the names of the countries\n",
    "    \n",
    "    Return:\n",
    "        True if the name of the country is valid, or if the empty cell contains 'unknown'\n",
    "        False if the name of the country is invalid\n",
    "    '''\n",
    "    if country.lower() == 'unknown':\n",
    "        return True\n",
    "    try:\n",
    "        pc.countries.lookup(country)\n",
    "        return True\n",
    "    except LookupError:\n",
    "        return False\n",
    "\n",
    "# Applying the verification to the countries column of the DataFrame\n",
    "df_exploded['valid_countries'] = df_exploded['countries_en'].apply(is_valid_country)\n",
    "\n",
    "# Deleting all rows with an incorrect country name\n",
    "df_valid_countries = df_exploded[df_exploded['valid_countries'] == True]\n",
    "\n",
    "df_valid_countries.to_csv('cleaned_csv/openfoodfacts_valid_countries.csv', index=False)"
   ]
  }
 ],
 "metadata": {
  "kernelspec": {
   "display_name": "env",
   "language": "python",
   "name": "python3"
  },
  "language_info": {
   "codemirror_mode": {
    "name": "ipython",
    "version": 3
   },
   "file_extension": ".py",
   "mimetype": "text/x-python",
   "name": "python",
   "nbconvert_exporter": "python",
   "pygments_lexer": "ipython3",
   "version": "3.12.4"
  }
 },
 "nbformat": 4,
 "nbformat_minor": 2
}
